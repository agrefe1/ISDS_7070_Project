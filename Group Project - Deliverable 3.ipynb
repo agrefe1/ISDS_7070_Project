{
 "cells": [
  {
   "cell_type": "markdown",
   "metadata": {},
   "source": [
    "# Finalized ML Model & Datasets"
   ]
  },
  {
   "cell_type": "markdown",
   "metadata": {},
   "source": [
    "## Andrew Grefer, Rebecca Jorgensen, Jonathan Murphy, Will Storment"
   ]
  },
  {
   "cell_type": "code",
   "execution_count": 1,
   "metadata": {},
   "outputs": [],
   "source": [
    "import pandas as pd\n",
    "import numpy as np\n",
    "import matplotlib.pyplot as plt\n",
    "import seaborn as sns\n",
    "from sklearn import tree\n",
    "from sklearn.metrics import accuracy_score\n",
    "\n",
    "\n",
    "%matplotlib inline\n",
    "sns.set()\n",
    "\n",
    "from sklearn.model_selection import train_test_split\n",
    "from sklearn.naive_bayes import MultinomialNB\n",
    "from sklearn.feature_extraction.text import CountVectorizer\n",
    "from sklearn import metrics"
   ]
  },
  {
   "cell_type": "code",
   "execution_count": 2,
   "metadata": {},
   "outputs": [],
   "source": [
    "df_fake = pd.read_csv('fake_job_postings.csv')"
   ]
  },
  {
   "cell_type": "code",
   "execution_count": 3,
   "metadata": {},
   "outputs": [],
   "source": [
    "df_fake.replace('?', np.NaN, inplace=True)\n",
    "df_fake['description'] = df_fake['description'].astype(str) \n",
    "\n",
    "\n",
    "y = df_fake.fraudulent      \n",
    "df_fake = df_fake.drop('fraudulent', axis=1)  \n",
    "\n",
    "X_train, X_test, y_train, y_test = train_test_split(df_fake['description'], y, test_size=0.35, random_state=53) "
   ]
  },
  {
   "cell_type": "code",
   "execution_count": 8,
   "metadata": {},
   "outputs": [
    {
     "data": {
      "text/plain": [
       "1601     0\n",
       "5960     0\n",
       "14302    0\n",
       "14579    0\n",
       "5596     0\n",
       "2835     0\n",
       "14935    0\n",
       "15103    0\n",
       "5211     0\n",
       "6387     0\n",
       "Name: fraudulent, dtype: int64"
      ]
     },
     "execution_count": 8,
     "metadata": {},
     "output_type": "execute_result"
    }
   ],
   "source": [
    "y_train.head(10)"
   ]
  },
  {
   "cell_type": "code",
   "execution_count": 9,
   "metadata": {},
   "outputs": [
    {
     "data": {
      "text/plain": [
       "1601     Our client, a growing company in Danbury, CT, ...\n",
       "5960     SE1, London Bridge - Laserlife, part of the Vi...\n",
       "14302    United Cerebral Palsy of Oregon &amp; SW Washi...\n",
       "14579    The Sales Development Representative is respon...\n",
       "5596     We're on a hunt for a e-mail marketing special...\n",
       "2835     The Radio Producer shall not fail to properly ...\n",
       "14935    OgilvyOne Worldwide, Athens seeks to recruit a...\n",
       "15103    Apcera is completely re-imagining application ...\n",
       "5211     This position has two primary and overarching ...\n",
       "6387     Sounds like what you are looking for? Then app...\n",
       "Name: description, dtype: object"
      ]
     },
     "execution_count": 9,
     "metadata": {},
     "output_type": "execute_result"
    }
   ],
   "source": [
    "X_train.head(10)"
   ]
  },
  {
   "cell_type": "code",
   "execution_count": 6,
   "metadata": {},
   "outputs": [],
   "source": [
    "count_vectorizer = CountVectorizer(stop_words='english') \n",
    "count_train = count_vectorizer.fit_transform(X_train) \n",
    "count_test = count_vectorizer.transform(X_test) "
   ]
  },
  {
   "cell_type": "code",
   "execution_count": 7,
   "metadata": {},
   "outputs": [
    {
     "name": "stdout",
     "output_type": "stream",
     "text": [
      "0.9637264301693832\n",
      "[[5887   36]\n",
      " [ 191  144]]\n"
     ]
    }
   ],
   "source": [
    "nb_classifier = MultinomialNB() \n",
    "nb_classifier.fit(count_train, y_train)\n",
    "pred = nb_classifier.predict(count_test) \n",
    "score = metrics.accuracy_score(y_test, pred)  \n",
    "print(score)\n",
    "cm = metrics.confusion_matrix(y_test, pred, labels=[0, 1])  \n",
    "print(cm)"
   ]
  },
  {
   "cell_type": "markdown",
   "metadata": {},
   "source": [
    "with a test_size of 0.35, we found the best accuracy score from our confusion matrix to be 96.37264%\n",
    "\n",
    "(5887 + 144)/(0.35*17880) = 6031/6258 = 0.96372643 accuracy\n",
    "\n",
    "36 Type I errors\n",
    "191 Type II errors\n",
    "\n",
    "(36+191)/(0.35*17880) = 227/6258 = 0.03627357 errors\n",
    "\n",
    "Not only does this confusion matrix produce a satisfactory accuracy score, but the errors can tell us more.\n",
    "\n",
    "So 36 false positives and 191 false negatives, means 36 observations that were truly not fraudulent were incorrectly predicted to be fraudulent, and 191 observations that were truly fraudulent were incorrectly predicted to be nonfraudulent. Despite these errors, it's a good sign that there are less type II errors in this confusion matrix dealing with 'descriptions' than there are in the confusion matrix dealing with 'requirements' which had 292 type II errors. In this scenario its worse to incorrectly predict a fraudulent posting to be non-fraudulent, because your not just avoiding a job opportunity, you're risking your computer's security."
   ]
  },
  {
   "cell_type": "code",
   "execution_count": 10,
   "metadata": {},
   "outputs": [],
   "source": [
    "def plot_confusion_matrix(cm, classes, normalize=False, title='Confusion matrix', cmap=plt.cm.Blues):\n",
    "    \"\"\"\n",
    "    See full source and example: \n",
    "    http://scikit-learn.org/stable/auto_examples/model_selection/plot_confusion_matrix.html\n",
    "    \n",
    "    This function prints and plots the confusion matrix.\n",
    "    Normalization can be applied by setting `normalize=True`.\n",
    "    \"\"\"\n",
    "    plt.imshow(cm, interpolation='nearest', cmap=cmap)\n",
    "    plt.title(title)\n",
    "    plt.colorbar()\n",
    "    tick_marks = np.arange(len(classes))\n",
    "    plt.xticks(tick_marks, classes, rotation=45)\n",
    "    plt.yticks(tick_marks, classes)\n",
    "\n",
    "    if normalize:\n",
    "        cm = cm.astype('float') / cm.sum(axis=1)[:, np.newaxis]\n",
    "        print(\"Normalized confusion matrix\")\n",
    "    else:\n",
    "        print('Confusion matrix, without normalization')\n",
    "\n",
    "    thresh = cm.max() / 2.\n",
    "\n",
    "    plt.tight_layout()\n",
    "    plt.ylabel('True label')\n",
    "    plt.xlabel('Predicted label')"
   ]
  },
  {
   "cell_type": "markdown",
   "metadata": {},
   "source": [
    "To visualize the accuracy of this confusion matrix, we are able to show the values between our true and predicted observations.\n",
    "Since our 5887 nonfraudulent descriptions were correctly predicted as nonfraudulent, it washes out the other low values."
   ]
  },
  {
   "cell_type": "code",
   "execution_count": 12,
   "metadata": {},
   "outputs": [
    {
     "name": "stdout",
     "output_type": "stream",
     "text": [
      "Confusion matrix, without normalization\n"
     ]
    },
    {
     "data": {
      "image/png": "[encoded data removed]",
      "text/plain": [
       "<Figure size 432x288 with 2 Axes>"
      ]
     },
     "metadata": {},
     "output_type": "display_data"
    }
   ],
   "source": [
    "plot_confusion_matrix(cm, classes=[0, 1])\n",
    "\n",
    "plt.show()"
   ]
  },
  {
   "cell_type": "code",
   "execution_count": null,
   "metadata": {},
   "outputs": [],
   "source": []
  }
 ],
 "metadata": {
  "kernelspec": {
   "display_name": "Python 3",
   "language": "python",
   "name": "python3"
  },
  "language_info": {
   "codemirror_mode": {
    "name": "ipython",
    "version": 3
   },
   "file_extension": ".py",
   "mimetype": "text/x-python",
   "name": "python",
   "nbconvert_exporter": "python",
   "pygments_lexer": "ipython3",
   "version": "3.8.5"
  }
 },
 "nbformat": 4,
 "nbformat_minor": 4
}
